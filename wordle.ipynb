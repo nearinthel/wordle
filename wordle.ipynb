{
 "cells": [
  {
   "cell_type": "code",
   "execution_count": 1,
   "metadata": {},
   "outputs": [],
   "source": [
    "#!pip install colorama\n"
   ]
  },
  {
   "cell_type": "code",
   "execution_count": 1,
   "metadata": {},
   "outputs": [
    {
     "name": "stdout",
     "output_type": "stream",
     "text": [
      "\u001b[32mRecursos Python\n",
      "\u001b[33mRecursos Python\n"
     ]
    }
   ],
   "source": [
    "from colorama import Fore\n",
    "import pandas as pd\n",
    "#init()\n",
    "print(Fore.GREEN + \"Recursos Python\")\n",
    "print(Fore.YELLOW + \"Recursos Python\")\n",
    "\n",
    "diccionario=pd.read_csv('palabrasSecretas.csv')"
   ]
  },
  {
   "cell_type": "code",
   "execution_count": 2,
   "metadata": {},
   "outputs": [],
   "source": [
    "def obtenerPalabra():\n",
    "    '''Da palabras al azar del diccionario'''\n",
    "     \n",
    "    palabraSecreta=str(diccionario['a'].sample().values)\n",
    "\n",
    "    palabraSecreta=palabraSecreta[2:7].upper()\n",
    "    \n",
    "    #palabraSecreta=\"RANGO\"\n",
    "    \n",
    "    return palabraSecreta\n",
    "\n",
    "    "
   ]
  },
  {
   "cell_type": "code",
   "execution_count": 3,
   "metadata": {},
   "outputs": [],
   "source": [
    "def existePalabra(entrada):    \n",
    "    '''Se fija si la palabra existe en el diccionario'''\n",
    "    \n",
    "    diccionarioAux=diccionario.copy()\n",
    "    \n",
    "    filtro=diccionarioAux['a']==entrada.lower()\n",
    "    \n",
    "    diccionarioAux.where(filtro, inplace=True)\n",
    "    diccionarioAux.dropna(inplace=True)\n",
    "    \n",
    "    existePalabra=False\n",
    "    \n",
    "    if not diccionarioAux.empty:\n",
    "        existePalabra=True\n",
    "\n",
    "    return existePalabra\n",
    "    \n",
    "\n"
   ]
  },
  {
   "cell_type": "code",
   "execution_count": 4,
   "metadata": {},
   "outputs": [],
   "source": [
    "def obtenerPuntuaciones():\n",
    "    '''Obtiene las puntuaciones del jugador'''\n",
    "    \n",
    "    puntuaciones=pd.read_csv('score.csv')\n",
    "            \n",
    "    return puntuaciones\n",
    "    \n",
    "    "
   ]
  },
  {
   "cell_type": "code",
   "execution_count": 5,
   "metadata": {},
   "outputs": [],
   "source": [
    "def obtenerScore():\n",
    "    \n",
    "    puntuaciones=obtenerPuntuaciones()\n",
    "    \n",
    "    ultimaPuntuacion=puntuaciones.tail(1)\n",
    "    \n",
    "    partida=ultimaPuntuacion['Partida']\n",
    "    intento=ultimaPuntuacion['Intentos']\n",
    "    promedio=ultimaPuntuacion['Promedio']\n",
    "    \n",
    "    return partida, intento, promedio"
   ]
  },
  {
   "cell_type": "code",
   "execution_count": 6,
   "metadata": {},
   "outputs": [],
   "source": [
    "def crearPuntuacion(intentos):\n",
    "    '''Crea una puntuacion promedio'''\n",
    "    \n",
    "    puntuaciones=obtenerPuntuaciones()\n",
    "    \n",
    "    #print(puntuaciones['Intentos'])\n",
    "    \n",
    "    #print(\"Puntuaciones \" + str(puntuaciones))\n",
    "    \n",
    "    totalIntentos=sum(puntuaciones['Intentos'])\n",
    "    \n",
    "    #partida, intento, promedio=obtenerScore()\n",
    "    ultimaPuntuacion=puntuaciones.tail(1)\n",
    "    \n",
    "    #print(\"Ultima partida \" + str(ultimaPuntuacion))\n",
    "    \n",
    "    partida=ultimaPuntuacion['Partida'].values+1\n",
    "    \n",
    "    #print(\"Partida \" +str(partida))\n",
    "    \n",
    "    promedio=(totalIntentos+intentos)/partida\n",
    "    \n",
    "    #print(\"Promedio \" + str(promedio))\n",
    "    puntuaciones.loc[int(partida-1)]=[int(partida), intentos, float(promedio)]\n",
    "    #print(\"Puntuaciones \" + str(puntuaciones))\n",
    "    puntuaciones.to_csv(\"score.csv\", index=False)\n",
    "           "
   ]
  },
  {
   "cell_type": "code",
   "execution_count": null,
   "metadata": {},
   "outputs": [],
   "source": [
    "\"\"\"def juegoWordle(palabra, palabraSecreta, intentosMax, intentos)#, logrado):\n",
    "    logrado=False\n",
    "    \n",
    "    for \n",
    "    \n",
    "    if (intentos<=intentosMax):\n",
    "        if(palabra==palabraSecreta)\n",
    "            logrado=True\n",
    "        elif\"\"\""
   ]
  },
  {
   "cell_type": "code",
   "execution_count": 8,
   "metadata": {},
   "outputs": [
    {
     "name": "stdout",
     "output_type": "stream",
     "text": [
      "\u001b[36mIngrese una palabra\n"
     ]
    },
    {
     "name": "stdin",
     "output_type": "stream",
     "text": [
      " perro\n"
     ]
    },
    {
     "name": "stdout",
     "output_type": "stream",
     "text": [
      "\u001b[31mP \u001b[31mE \u001b[32mR \u001b[33mR \u001b[33mO  \n",
      "\u001b[36mLlevas 1 intentos\n",
      "\u001b[36mIngrese una palabra\n"
     ]
    },
    {
     "name": "stdin",
     "output_type": "stream",
     "text": [
      " parvo\n"
     ]
    },
    {
     "name": "stdout",
     "output_type": "stream",
     "text": [
      "\u001b[31mP \u001b[33mA \u001b[32mR \u001b[31mV \u001b[33mO  \n",
      "\u001b[36mLlevas 2 intentos\n",
      "\u001b[36mIngrese una palabra\n"
     ]
    },
    {
     "name": "stdin",
     "output_type": "stream",
     "text": [
      " huevo\n"
     ]
    },
    {
     "name": "stdout",
     "output_type": "stream",
     "text": [
      "\u001b[31mH \u001b[31mU \u001b[31mE \u001b[31mV \u001b[33mO  \n",
      "\u001b[36mLlevas 3 intentos\n",
      "\u001b[36mIngrese una palabra\n"
     ]
    },
    {
     "name": "stdin",
     "output_type": "stream",
     "text": [
      " ortos\n"
     ]
    },
    {
     "name": "stdout",
     "output_type": "stream",
     "text": [
      "\u001b[31mLa palabra no existe en el diccionario, ingrese una palabra\n",
      "\u001b[36mIngrese una palabra\n"
     ]
    },
    {
     "name": "stdin",
     "output_type": "stream",
     "text": [
      " otros\n"
     ]
    },
    {
     "name": "stdout",
     "output_type": "stream",
     "text": [
      "\u001b[31mLa palabra no existe en el diccionario, ingrese una palabra\n",
      "\u001b[36mIngrese una palabra\n"
     ]
    },
    {
     "name": "stdin",
     "output_type": "stream",
     "text": [
      " pajas\n"
     ]
    },
    {
     "name": "stdout",
     "output_type": "stream",
     "text": [
      "\u001b[31mLa palabra no existe en el diccionario, ingrese una palabra\n",
      "\u001b[36mIngrese una palabra\n"
     ]
    },
    {
     "name": "stdin",
     "output_type": "stream",
     "text": [
      " perro\n"
     ]
    },
    {
     "name": "stdout",
     "output_type": "stream",
     "text": [
      "\u001b[31mP \u001b[31mE \u001b[32mR \u001b[33mR \u001b[33mO  \n",
      "\u001b[36mLlevas 4 intentos\n",
      "\u001b[36mIngrese una palabra\n"
     ]
    },
    {
     "name": "stdin",
     "output_type": "stream",
     "text": [
      " pero\n"
     ]
    },
    {
     "name": "stdout",
     "output_type": "stream",
     "text": [
      "\u001b[31mIngrese una palabra de cinco letras\n",
      "\u001b[36mIngrese una palabra\n"
     ]
    },
    {
     "name": "stdin",
     "output_type": "stream",
     "text": [
      " perro\n"
     ]
    },
    {
     "name": "stdout",
     "output_type": "stream",
     "text": [
      "\u001b[31mP \u001b[31mE \u001b[32mR \u001b[33mR \u001b[33mO  \n",
      "\u001b[36mLlevas 5 intentos\n",
      "\u001b[36mIngrese una palabra\n"
     ]
    },
    {
     "name": "stdin",
     "output_type": "stream",
     "text": [
      " perro\n"
     ]
    },
    {
     "name": "stdout",
     "output_type": "stream",
     "text": [
      "\u001b[31mP \u001b[31mE \u001b[32mR \u001b[33mR \u001b[33mO  \n",
      "\u001b[36mLlevas 6 intentos\n",
      "\u001b[31mLa palabra secreta era: CORAS\n"
     ]
    }
   ],
   "source": [
    "intentosMaximos=6\n",
    "contadorIntentos=0\n",
    "logrado=False\n",
    "\n",
    "palabraSecreta=obtenerPalabra()\n",
    "\n",
    "\n",
    "while logrado==False and contadorIntentos < intentosMaximos:\n",
    "    \n",
    "    print(Fore.CYAN+ \"Ingrese una palabra\")\n",
    "    entrada = input() \n",
    "    \n",
    "    entrada=entrada.upper()\n",
    "    \n",
    "    largoEntrada=len(entrada)        \n",
    "    \n",
    "    existe=existePalabra(entrada)\n",
    "    \n",
    "    if largoEntrada!=5:\n",
    "        print(Fore.RED + \"Ingrese una palabra de cinco letras\")\n",
    "        \n",
    "    elif existe==False:\n",
    "        print(Fore.RED + \"La palabra no existe en el diccionario, ingrese una palabra\")\n",
    "    \n",
    "    else: \n",
    "        \n",
    "        contadorIntentos+=1\n",
    "        \n",
    "        for i in range(5):\n",
    "        \n",
    "            letra=entrada[i]\n",
    "        \n",
    "            if letra==palabraSecreta[i]:\n",
    "                print(Fore.GREEN + letra, end=\" \")\n",
    "            elif letra in palabraSecreta:\n",
    "                print(Fore.YELLOW + letra, end=\" \")            \n",
    "            else:\n",
    "                print(Fore.RED + letra, end=\" \")\n",
    "               \n",
    "        print(\" \")\n",
    "    \n",
    "        if entrada == palabraSecreta:\n",
    "            print(Fore.GREEN + \"Logrado en \" +str(contadorIntentos) + \" intentos\")\n",
    "            logrado=True\n",
    "            crearPuntuacion(contadorIntentos)\n",
    "            \n",
    "        else:\n",
    "            print(Fore.CYAN +\"Llevas \" + str(contadorIntentos) + \" intentos\")\n",
    "            \n",
    "            \n",
    "if logrado==False:\n",
    "    print(Fore.RED +\"La palabra secreta era: \" + palabraSecreta)\n",
    "    crearPuntuacion(7)\n"
   ]
  },
  {
   "cell_type": "code",
   "execution_count": 13,
   "metadata": {},
   "outputs": [],
   "source": [
    "import tkinter as tk\n",
    "\n",
    "root = tk.Tk()\n",
    "\n",
    "root.geometry(\"500x500\")\n",
    "root.title(\"WORDLE\")\n",
    "\n",
    "root.mainloop()"
   ]
  },
  {
   "cell_type": "code",
   "execution_count": 9,
   "metadata": {},
   "outputs": [
    {
     "data": {
      "text/plain": [
       "' entrada = input() \\n    \\n    largoEntrada=len(entrada)        \\n    \\n    existe=existePalabra(entrada)\\n    \\n    while largoEntrada!=5:\\n        print(\"Ingrese una palabra de cinco letras\")\\n        entrada = input() \\n        largoEntrada=len(entrada)\\n        \\n    entrada=entrada.upper()\\n    \\n    contadorIntentos+=1\\n    \\n    for i in range(5):\\n        \\n        letra=entrada[i]\\n        \\n        if letra==palabraSecreta[i]:\\n            print(Fore.GREEN + letra, end=\" \")\\n        elif letra in palabraSecreta:\\n            print(Fore.YELLOW + letra, end=\" \")            \\n        else:\\n            print(Fore.RED + letra, end=\" \")\\n               \\n    print(\" \")\\n    \\n    if entrada == palabraSecreta:\\n        print(Fore.GREEN + \"Logrado\")\\n        logrado=True\\n    else:\\n        #print(Fore.RED + \"Intenta de nuevo\")\\n        print(Fore.CYAN +\"Llevas \" + str(contadorIntentos) + \" intentos\")\\n        \\n    '"
      ]
     },
     "execution_count": 9,
     "metadata": {},
     "output_type": "execute_result"
    }
   ],
   "source": [
    "''' entrada = input() \n",
    "    \n",
    "    largoEntrada=len(entrada)        \n",
    "    \n",
    "    existe=existePalabra(entrada)\n",
    "    \n",
    "    while largoEntrada!=5:\n",
    "        print(\"Ingrese una palabra de cinco letras\")\n",
    "        entrada = input() \n",
    "        largoEntrada=len(entrada)\n",
    "        \n",
    "    entrada=entrada.upper()\n",
    "    \n",
    "    contadorIntentos+=1\n",
    "    \n",
    "    for i in range(5):\n",
    "        \n",
    "        letra=entrada[i]\n",
    "        \n",
    "        if letra==palabraSecreta[i]:\n",
    "            print(Fore.GREEN + letra, end=\" \")\n",
    "        elif letra in palabraSecreta:\n",
    "            print(Fore.YELLOW + letra, end=\" \")            \n",
    "        else:\n",
    "            print(Fore.RED + letra, end=\" \")\n",
    "               \n",
    "    print(\" \")\n",
    "    \n",
    "    if entrada == palabraSecreta:\n",
    "        print(Fore.GREEN + \"Logrado\")\n",
    "        logrado=True\n",
    "    else:\n",
    "        #print(Fore.RED + \"Intenta de nuevo\")\n",
    "        print(Fore.CYAN +\"Llevas \" + str(contadorIntentos) + \" intentos\")\n",
    "        \n",
    "    '''"
   ]
  },
  {
   "cell_type": "code",
   "execution_count": 15,
   "metadata": {},
   "outputs": [],
   "source": [
    "from tkinter import  Tk, Button, Entry, Label, messagebox, PhotoImage\n",
    "from tkinter import  StringVar,Frame\n",
    "import random\n",
    "\n",
    "class Wordle(Frame):\n",
    "\tdef __init__(self, master):\n",
    "\t\tsuper().__init__( master)\n",
    "\t\tself.fila = 0\n",
    "\t\tself.verde = '#19C065'\n",
    "\t\tself.naranjado = '#E3B30E'\n",
    "\t\tself.gris = '#8F8E8C'\n",
    "\t\tself.texto = StringVar()\n",
    "\t\tself.texto.trace(\"w\", lambda *args: self.limitar(self.texto))\n",
    "\t\tself.create_widgets()\n",
    "\t\tself.palabra_aleatoria()\n",
    "\n",
    "\tdef create_widgets(self):\n",
    "\t\tself.frame_titulo = Frame(self.master, bg='red', width=400, height=100)\n",
    "\t\tself.frame_titulo.grid_propagate(0)\n",
    "\t\tself.frame_titulo.grid(column=0, row=0, sticky='snew')\n",
    "\t\tself.frame_cuadros = Frame(self.master, bg='blue', width=400, height=350)\n",
    "\t\tself.frame_cuadros.grid_propagate(0)\n",
    "\t\tself.frame_cuadros.grid(column=0, row=1, sticky='snew')\n",
    "\t\tself.frame_control = Frame(self.master, bg='green', width=400, height=100)\n",
    "\t\tself.frame_control.grid_propagate(0)\n",
    "\t\tself.frame_control.grid(column=0, row=2, sticky='snew')\n",
    "\n",
    "\t\tLabel(self.frame_titulo,  bg= 'black',fg='white', text= 'WORDLE', \n",
    "\t\t\tfont=('Arial',25,'bold')).pack(side='top')\n",
    "\n",
    "\t\tself.signal = Label(self.frame_control,  bg= 'black',fg='white', text= 'Señal', \n",
    "\t\t\tfont=('Arial',12))\n",
    "\t\tself.signal.pack(side= 'left', expand=True)\n",
    "\n",
    "\t\tself.palabra = Entry(self.frame_control, font=('Arial',15), justify = 'center', \n",
    "\t\t\ttextvariable = self.texto,fg='black',highlightcolor= \"green2\", highlightthickness=2, width=7)\n",
    "\t\tself.palabra.pack(side= 'left', expand=True)\n",
    "\n",
    "\t\tself.enviar = Button(self.frame_control, text= 'Enviar', bg='gray50',activebackground='green2',\n",
    "\t\t fg = 'white', font=('Arial', 12,'bold'), command=self.verificar_palabra)\n",
    "\t\tself.enviar.pack(side= 'left', expand=True)\n",
    "\n",
    "\t\tself.limpiar = Button(self.frame_control, text= '⌫', bg='gray50',activebackground='green2',\n",
    "\t\t fg = 'white', font=('Arial', 12,'bold'), width=4, command= lambda:self.texto.set(''))\n",
    "\t\tself.limpiar.pack(side= 'left', expand=True)\n",
    "\n",
    "\tdef limitar(self, texto):\n",
    "\t    if len(texto.get()) > 0:\n",
    "\t        texto.set(texto.get()[:5])\n",
    "\n",
    "\tdef palabra_aleatoria(self):\n",
    "       \n",
    "\t\t#archivo = open('data.txt','r',encoding=\"utf-8\") #leer la Ñ\n",
    "\t\tself.lista = diccionario#archivo.readlines()\n",
    "\t\tself.p_a =  obtenerPalabra()#random.choice(self.lista).rstrip('\\n')  \n",
    "        \n",
    "\n",
    "\tdef verificar_palabra(self):\n",
    "\t\tpalabra = self.texto.get().upper()\n",
    "\t\tx = list(filter(lambda x: palabra in x, self.lista)) #[i for i in lista if palabra in i]\n",
    "\t\tif len(x)==1 and len(palabra)==5:\n",
    "\t\t\tself.signal['text'] = ''\n",
    "\t\t\tprint(self.p_a, palabra)\t\t\t\n",
    "\t\t\tif self.fila<=6:\t\t\t\t\t\n",
    "\t\t\t\tfor i, letra in enumerate(palabra):\n",
    "\t\t\t\t\tself.cuadros = Label(self.frame_cuadros, width=4,  fg='white' ,\n",
    "\t\t\t\t\t\tbg=self.gris, text= letra, font=('Geometr706 BlkCn BT',25, 'bold'))\n",
    "\t\t\t\t\tself.cuadros.grid(column=i, row = self.fila , padx =5, pady =5)\n",
    "\t\t\t\t\tif letra == self.p_a[i]:\n",
    "\t\t\t\t\t\tself.cuadros['bg']= self.verde\n",
    "\n",
    "\t\t\t\t\tif letra in self.p_a and not letra== self.p_a[i]:\n",
    "\t\t\t\t\t\tself.cuadros['bg']= self.naranjado\n",
    "\n",
    "\t\t\t\t\tif letra not in self.p_a:\n",
    "\t\t\t\t\t\tself.cuadros['bg']= self.gris\n",
    "\n",
    "\t\t\tself.fila = self.fila + 1\n",
    "\t\t\tif self.fila<=6 and self.p_a == palabra:\n",
    "\t\t\t\tmessagebox.showinfo('GANASTE', 'FELICIDADES')\n",
    "\t\t\t\tself.master.destroy()\n",
    "\t\t\t\tself.master.quit()\t\t\t\t\n",
    "\t\t\tif self.fila==6 and self.p_a != palabra:\n",
    "\t\t\t\tmessagebox.showinfo('PERDISTE', 'INTENTALO DE NUEVO')\n",
    "\t\t\t\tself.master.destroy()\n",
    "\t\t\t\tself.master.quit()\n",
    "\t\telse:\n",
    "\t\t\tself.signal['text'] = 'No esta en BBDD'\n",
    "\n",
    "if __name__ == \"__main__\":\n",
    "\tventana = Tk()\n",
    "\tventana.config(bg='black')\n",
    "\t#ventana.call('wm', 'iconphoto', ventana._w, PhotoImage(file='logo.png'))\n",
    "\tventana.geometry('410x440+500+50')\n",
    "\tventana.resizable(0,0)\n",
    "\tventana.title('Wordle')\n",
    "\tapp = Wordle(ventana)\n",
    "\tapp.mainloop()"
   ]
  },
  {
   "cell_type": "code",
   "execution_count": null,
   "metadata": {},
   "outputs": [],
   "source": []
  }
 ],
 "metadata": {
  "kernelspec": {
   "display_name": "Python 3",
   "language": "python",
   "name": "python3"
  },
  "language_info": {
   "codemirror_mode": {
    "name": "ipython",
    "version": 3
   },
   "file_extension": ".py",
   "mimetype": "text/x-python",
   "name": "python",
   "nbconvert_exporter": "python",
   "pygments_lexer": "ipython3",
   "version": "3.8.5"
  }
 },
 "nbformat": 4,
 "nbformat_minor": 4
}
